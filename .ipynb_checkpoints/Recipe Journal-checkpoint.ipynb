{
 "cells": [
  {
   "cell_type": "code",
   "execution_count": 18,
   "metadata": {},
   "outputs": [
    {
     "name": "stdout",
     "output_type": "stream",
     "text": [
      "Developer: Tugba Akan\n",
      "\n",
      "\n",
      "Recipe Journal: A journal keeping your recipes in categories by the ingredients,\n",
      "letting you enter a new recipe,\n",
      "listing the recipes of the desired category\n",
      "\n",
      "\n",
      "if you would like to add a new recipe, put the text document into the folder that the code runs\n",
      "and run the code. It will load all the text documents including the new one.\n",
      "You can run the jupyter notebook\n",
      "or the py file from the command line\n"
     ]
    }
   ],
   "source": [
    "print('Developer: Tugba Akan')\n",
    "print('\\n')      \n",
    "print('Recipe Journal: A journal keeping your recipes in categories by the ingredients,')\n",
    "print('letting you enter a new recipe,')\n",
    "print('listing the recipes of the desired category')\n",
    "\n",
    "#The recipes are taken from the website https://www.jamieoliver.com/\n",
    "\n",
    "#Version 1 : The categories are: Beef, Chicken, Vegetables\n",
    "print('\\n')\n",
    "print('if you would like to add a new recipe, put the text document into the folder that the code runs')\n",
    "print('and run the code. It will load all the text documents including the new one.')\n",
    "print('You can run the jupyter notebook')\n",
    "print('or the py file from the command line')\n",
    "\n",
    "#Python 3\n",
    "#the subjects used in the code are : \n",
    "#importing text document and text mining\n",
    "#object oriented programming\n",
    "#Exception handling"
   ]
  },
  {
   "cell_type": "code",
   "execution_count": 19,
   "metadata": {},
   "outputs": [],
   "source": [
    "#create a class for categories\n",
    "class Category(object):\n",
    "    def __init__(self, ID, name, keywords, ignorewords):\n",
    "        self.ID = ID\n",
    "        self.name = name\n",
    "        self.keywords = keywords\n",
    "        self.ignorewords = ignorewords"
   ]
  },
  {
   "cell_type": "code",
   "execution_count": 22,
   "metadata": {},
   "outputs": [],
   "source": [
    "#keywords are the one that help us to find what is the main ingredient\n",
    "#ignore words are the ones that misdirect us from the main ingredient. e.g. chicken stock\n",
    "cate1 = Category( ID = 1, name='Beef', keywords=[' lamb ', ' lamb\\n', 'steak', 'beef'], ignorewords=['stock'])\n",
    "cate2 = Category( ID = 2, name='Chicken', keywords= ['chicken'], ignorewords=['stock'])\n",
    "cate3 = Category( ID = 3, name='Vegetables', keywords= ['parsnip', 'beetroot', 'broccoli', 'cauliflower', 'courgette', \n",
    "                                                        'cucumber', 'lettuce', 'spinach', 'runner beans'], ignorewords=['stock'])"
   ]
  },
  {
   "cell_type": "code",
   "execution_count": 23,
   "metadata": {},
   "outputs": [],
   "source": [
    "categories = [cate1, cate2, cate3 ]"
   ]
  },
  {
   "cell_type": "code",
   "execution_count": 24,
   "metadata": {},
   "outputs": [],
   "source": [
    "#create a class for recipes\n",
    "class Recipe(object):\n",
    "    def __init__(self,name, ingredients, categories):\n",
    "        self.name = name\n",
    "        self.ingredients = ingredients\n",
    "        self.category = []\n",
    "        self.setCategory(categories)\n",
    "        \n",
    "    #method to set the category of the recipe\n",
    "    def setCategory(self, categories):\n",
    "        #loop for all categories\n",
    "        for cate in categories:\n",
    "            #loop for all ingredients\n",
    "            for ingr in self.ingredients:\n",
    "                #loop for all the words to be ignored\n",
    "                for kw0 in cate.ignorewords:\n",
    "                    if kw0 not in ingr: \n",
    "                        #loop for all keywords\n",
    "                        if any(kw in ingr for kw in cate.keywords):\n",
    "                            self.category.append(cate.name)\n",
    "                            break"
   ]
  },
  {
   "cell_type": "code",
   "execution_count": 25,
   "metadata": {},
   "outputs": [
    {
     "name": "stdout",
     "output_type": "stream",
     "text": [
      "Content written successfully\n",
      "Content written successfully\n",
      "Content written successfully\n",
      "Content written successfully\n",
      "Content written successfully\n",
      "Content written successfully\n",
      "Content written successfully\n",
      "Content written successfully\n",
      "Content written successfully\n",
      "Error: Could not find file or read data\n",
      "Error: Could not find file or read data\n",
      "Error: Could not find file or read data\n",
      "Error: Could not find file or read data\n",
      "Error: Could not find file or read data\n",
      "Error: Could not find file or read data\n",
      "Error: Could not find file or read data\n",
      "Error: Could not find file or read data\n",
      "Error: Could not find file or read data\n",
      "Error: Could not find file or read data\n"
     ]
    }
   ],
   "source": [
    "#enter a new recipe as a txt document\n",
    "#we assume max 20 recipes will be given\n",
    "recipes = []\n",
    "for i in range(1,20):\n",
    "    try:\n",
    "        with open('recipe' + str(i) + '.txt', 'r') as f:\n",
    "            #read all the document\n",
    "            new_recipe = f.readlines()\n",
    "            ing_index = 0\n",
    "            #take the below line of 'Ingredients' for ingredient list\n",
    "            #find the index and assign it to ing_index\n",
    "            for i, e in enumerate(new_recipe):\n",
    "                if e == 'Ingredients\\n':\n",
    "                    ing_index = i\n",
    "                    break\n",
    "            rec = Recipe(name=new_recipe[0], ingredients = new_recipe[ing_index::], categories = categories)\n",
    "            recipes.append(rec)\n",
    "    except IOError:\n",
    "        # This will only check for an IOError exception and then execute this print statement\n",
    "        print( \"Error: Could not find file or read data\" )\n",
    "    else:\n",
    "        print( \"Content written successfully\" )"
   ]
  },
  {
   "cell_type": "code",
   "execution_count": 26,
   "metadata": {},
   "outputs": [
    {
     "name": "stdout",
     "output_type": "stream",
     "text": [
      "Beef\n",
      "Chicken\n",
      "Vegetables\n"
     ]
    }
   ],
   "source": [
    "#print the categories\n",
    "for item in categories:\n",
    "    print(item.name)"
   ]
  },
  {
   "cell_type": "code",
   "execution_count": 27,
   "metadata": {},
   "outputs": [
    {
     "name": "stdout",
     "output_type": "stream",
     "text": [
      "Super shepherd's pie\n",
      "\n",
      "['Beef']\n",
      "Dukkah beef carpaccio\n",
      "\n",
      "['Beef']\n",
      "Meltin' mustardy beef\n",
      "\n",
      "['Beef']\n",
      "Flaky pastry pesto chicken\n",
      "\n",
      "['Chicken']\n",
      "Thai red chicken soup\n",
      "\n",
      "['Chicken']\n",
      "Tom Daley's sweet & sour chicken\n",
      "\n",
      "['Chicken', 'Vegetables']\n",
      "Parsnip beetroot gratin\n",
      "\n",
      "['Vegetables', 'Vegetables']\n",
      "Roasted roots & halloumi traybake with courgette tangles\n",
      "\n",
      "['Vegetables', 'Vegetables', 'Vegetables', 'Vegetables']\n",
      "Roasted radish & runner bean traybake\n",
      "\n",
      "['Vegetables', 'Vegetables']\n"
     ]
    }
   ],
   "source": [
    "#print the name and the categories of the recipes\n",
    "for item in recipes:\n",
    "    print(item.name)\n",
    "    print(item.category)"
   ]
  },
  {
   "cell_type": "code",
   "execution_count": 31,
   "metadata": {},
   "outputs": [
    {
     "name": "stdout",
     "output_type": "stream",
     "text": [
      "Type the number of the category you wish to be listed\n",
      "1 for Beef\n",
      "2 for Chicken\n",
      "3 for Vegetables\n",
      "3\n",
      "Vegetables\n",
      "Tom Daley's sweet & sour chicken\n",
      "\n",
      "Parsnip beetroot gratin\n",
      "\n",
      "Roasted roots & halloumi traybake with courgette tangles\n",
      "\n",
      "Roasted radish & runner bean traybake\n",
      "\n"
     ]
    }
   ],
   "source": [
    "#list the recipes in the desired category\n",
    "print('Type the number of the category you wish to be listed')\n",
    "for item in categories:\n",
    "    print( str(item.ID) + ' for ' + item.name)\n",
    "inp_cate_ID = input('')\n",
    "for item in categories:\n",
    "    if item.ID == int(inp_cate_ID):\n",
    "        print(item.name)\n",
    "        for item2 in recipes:\n",
    "            for item3 in item2.category:\n",
    "                if item3 == item.name:\n",
    "                    print(item2.name)\n",
    "                    break"
   ]
  },
  {
   "cell_type": "code",
   "execution_count": null,
   "metadata": {},
   "outputs": [],
   "source": []
  },
  {
   "cell_type": "code",
   "execution_count": null,
   "metadata": {},
   "outputs": [],
   "source": []
  }
 ],
 "metadata": {
  "kernelspec": {
   "display_name": "Python 3",
   "language": "python",
   "name": "python3"
  },
  "language_info": {
   "codemirror_mode": {
    "name": "ipython",
    "version": 3
   },
   "file_extension": ".py",
   "mimetype": "text/x-python",
   "name": "python",
   "nbconvert_exporter": "python",
   "pygments_lexer": "ipython3",
   "version": "3.6.5"
  }
 },
 "nbformat": 4,
 "nbformat_minor": 2
}
