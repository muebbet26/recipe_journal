{
 "cells": [
  {
   "cell_type": "code",
   "execution_count": 1,
   "metadata": {
    "collapsed": false
   },
   "outputs": [
    {
     "name": "stdout",
     "output_type": "stream",
     "text": [
      "Developer: Tugba Akan\n",
      "\n",
      "\n",
      "Recipe Journal: A journal keeping your recipes in categories by the ingredients,\n",
      "letting you enter a new recipe,\n",
      "listing the recipes of the desired category\n",
      "\n",
      "\n",
      "if you would like to add a new recipe, put the text document into the folder that the code runs\n",
      "and run the code. It will load all the text documents including the new one.\n",
      "You can run the jupyter notebook\n",
      "or the py file from the command line\n"
     ]
    }
   ],
   "source": [
    "print('Developer: Tugba Akan')\n",
    "print('\\n')      \n",
    "print('Recipe Journal: A journal keeping your recipes in categories by the ingredients,')\n",
    "print('letting you enter a new recipe,')\n",
    "print('listing the recipes of the desired category')\n",
    "\n",
    "#The recipes are taken from the website https://www.jamieoliver.com/\n",
    "\n",
    "#Version 1 : The categories are: Beef, Chicken, Vegetables\n",
    "print('\\n')\n",
    "print('if you would like to add a new recipe, put the text document into the folder that the code runs')\n",
    "print('and run the code. It will load all the text documents including the new one.')\n",
    "print('You can run the jupyter notebook')\n",
    "print('or the py file from the command line')\n",
    "\n",
    "#Python 3\n",
    "#the subjects used in the code are : \n",
    "#importing text document and text mining\n",
    "#object oriented programming\n",
    "#Exception handling"
   ]
  },
  {
   "cell_type": "code",
   "execution_count": 2,
   "metadata": {
    "collapsed": true
   },
   "outputs": [],
   "source": [
    "#create a class for categories\n",
    "class Category(object):\n",
    "    def __init__(self, ID, name, keywords):\n",
    "        self.ID = ID\n",
    "        self.name = name\n",
    "        self.keywords = keywords"
   ]
  },
  {
   "cell_type": "code",
   "execution_count": 4,
   "metadata": {
    "collapsed": true
   },
   "outputs": [],
   "source": [
    "cate1 = Category( ID = 1, name='Beef', keywords=[])\n",
    "cate2 = Category( ID = 2, name='Chicken', keywords= [])\n",
    "cate3 = Category( ID = 3, name='Vegetables', keywords= [] )"
   ]
  },
  {
   "cell_type": "code",
   "execution_count": 5,
   "metadata": {
    "collapsed": true
   },
   "outputs": [],
   "source": [
    "categories = [cate1, cate2, cate3 ]"
   ]
  },
  {
   "cell_type": "code",
   "execution_count": 6,
   "metadata": {
    "collapsed": true
   },
   "outputs": [],
   "source": [
    "#create a class for recipes\n",
    "class Recipe(object):\n",
    "    def __init__(self,name, ingredients, categories):\n",
    "        self.name = name\n",
    "        self.ingredients = ingredients\n",
    "        self.category = []\n",
    "        self.setCategory(categories)\n",
    "        \n",
    "    #method to set the category of the recipe\n",
    "    def setCategory(self, categories):\n",
    "        for cate in categories:\n",
    "            for ingr in self.ingredients:\n",
    "                if any(kw in ingr for kw in cate.keywords):\n",
    "                    self.category.append(cate.name)\n",
    "                    break"
   ]
  },
  {
   "cell_type": "code",
   "execution_count": 8,
   "metadata": {
    "collapsed": false
   },
   "outputs": [
    {
     "name": "stdout",
     "output_type": "stream",
     "text": [
      "Content written successfully\n",
      "Content written successfully\n",
      "Content written successfully\n",
      "Content written successfully\n",
      "Content written successfully\n",
      "Content written successfully\n",
      "Content written successfully\n",
      "Content written successfully\n",
      "Content written successfully\n",
      "Error: Could not find file or read data\n",
      "Error: Could not find file or read data\n",
      "Error: Could not find file or read data\n",
      "Error: Could not find file or read data\n",
      "Error: Could not find file or read data\n",
      "Error: Could not find file or read data\n",
      "Error: Could not find file or read data\n",
      "Error: Could not find file or read data\n",
      "Error: Could not find file or read data\n",
      "Error: Could not find file or read data\n"
     ]
    }
   ],
   "source": [
    "#enter a new recipe as a txt document\n",
    "#we assume max 20 recipes will be given\n",
    "recipes = []\n",
    "for i in range(1,20):\n",
    "    try:\n",
    "        with open('recipe' + str(i) + '.txt', 'r') as f:\n",
    "            new_recipe = f.readlines()\n",
    "            rec = Recipe(name=new_recipe[0], ingredients = new_recipe[4::], categories = categories)\n",
    "            recipes.append(rec)\n",
    "    except IOError:\n",
    "        # This will only check for an IOError exception and then execute this print statement\n",
    "        print( \"Error: Could not find file or read data\" )\n",
    "    else:\n",
    "        print( \"Content written successfully\" )"
   ]
  },
  {
   "cell_type": "code",
   "execution_count": 9,
   "metadata": {
    "collapsed": false
   },
   "outputs": [
    {
     "name": "stdout",
     "output_type": "stream",
     "text": [
      "Beef\n",
      "Chicken\n",
      "Vegetables\n"
     ]
    }
   ],
   "source": [
    "#print the categories\n",
    "for item in categories:\n",
    "    print(item.name)"
   ]
  },
  {
   "cell_type": "code",
   "execution_count": 10,
   "metadata": {
    "collapsed": false
   },
   "outputs": [
    {
     "name": "stdout",
     "output_type": "stream",
     "text": [
      "Super shepherd's pie\n",
      "\n",
      "[]\n",
      "Dukkah beef carpaccio\n",
      "\n",
      "[]\n",
      "Meltin' mustardy beef\n",
      "\n",
      "[]\n",
      "Flaky pastry pesto chicken\n",
      "\n",
      "[]\n",
      "Thai red chicken soup\n",
      "\n",
      "[]\n",
      "Tom Daley's sweet & sour chicken\n",
      "\n",
      "[]\n",
      "Parsnip beetroot gratin\n",
      "\n",
      "[]\n",
      "Roasted roots & halloumi traybake with courgette tangles\n",
      "\n",
      "[]\n",
      "Roasted radish & runner bean traybake\n",
      "\n",
      "[]\n"
     ]
    }
   ],
   "source": [
    "#print the name and the categories of the recipes\n",
    "for item in recipes:\n",
    "    print(item.name)\n",
    "    print(item.category)"
   ]
  },
  {
   "cell_type": "code",
   "execution_count": 8,
   "metadata": {
    "collapsed": false
   },
   "outputs": [
    {
     "name": "stdout",
     "output_type": "stream",
     "text": [
      "Type the number of the category you wish to be listed\n",
      "1 for Et yemekleri\n",
      "2 for Tavuk yemekleri\n",
      "3 for Sebze yemekleri\n",
      "1\n",
      "Et yemekleri\n",
      "Saç Kavurma\n",
      "\n",
      "Karnıyarık\n",
      "\n",
      "Patlıcanlı Tepsi Kebabı\n",
      "\n",
      "Yoğurtlu İçli Köfte (Resimli)\n",
      "\n"
     ]
    }
   ],
   "source": [
    "#list the recipes in the desired category\n",
    "print('Type the number of the category you wish to be listed')\n",
    "for item in categories:\n",
    "    print( str(item.ID) + ' for ' + item.name)\n",
    "inp_cate_ID = input('')\n",
    "for item in categories:\n",
    "    if item.ID == int(inp_cate_ID):\n",
    "        print(item.name)\n",
    "        for item2 in recipes:\n",
    "            for item3 in item2.category:\n",
    "                if item3 == item.name:\n",
    "                    print(item2.name)"
   ]
  },
  {
   "cell_type": "code",
   "execution_count": null,
   "metadata": {
    "collapsed": true
   },
   "outputs": [],
   "source": []
  },
  {
   "cell_type": "code",
   "execution_count": null,
   "metadata": {
    "collapsed": true
   },
   "outputs": [],
   "source": []
  }
 ],
 "metadata": {
  "kernelspec": {
   "display_name": "Python 3",
   "language": "python",
   "name": "python3"
  },
  "language_info": {
   "codemirror_mode": {
    "name": "ipython",
    "version": 3
   },
   "file_extension": ".py",
   "mimetype": "text/x-python",
   "name": "python",
   "nbconvert_exporter": "python",
   "pygments_lexer": "ipython3",
   "version": "3.6.0"
  }
 },
 "nbformat": 4,
 "nbformat_minor": 2
}
